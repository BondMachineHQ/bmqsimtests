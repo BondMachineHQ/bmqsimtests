{
 "cells": [
  {
   "cell_type": "code",
   "execution_count": 1,
   "metadata": {},
   "outputs": [
    {
     "name": "stdout",
     "output_type": "stream",
     "text": [
      "[{\"Vector\": [{\"Real\": 1, \"Imag\": 0}, {\"Real\": 0, \"Imag\": 0}, {\"Real\": 0, \"Imag\": 0}, {\"Real\": 0, \"Imag\": 0}]}]"
     ]
    }
   ],
   "source": [
    "%%bash\n",
    "cat inputs.json"
   ]
  },
  {
   "cell_type": "code",
   "execution_count": 2,
   "metadata": {},
   "outputs": [
    {
     "name": "stdout",
     "output_type": "stream",
     "text": [
      "%block code1 .sequential\n",
      "        qbits   q0,q1\n",
      "        zero    q0,q1\n",
      "\th\tq0\n",
      "\tcx\tq0,q1\n",
      "%endblock\n",
      "\n",
      "%meta bmdef global main:code1\n"
     ]
    }
   ],
   "source": [
    "%%bash\n",
    "cat program.bmq"
   ]
  },
  {
   "cell_type": "code",
   "execution_count": 3,
   "metadata": {},
   "outputs": [
    {
     "name": "stdout",
     "output_type": "stream",
     "text": [
      "[{\"Vector\":[{\"Real\":0.70710677,\"Imag\":0},{\"Real\":0,\"Imag\":0},{\"Real\":0,\"Imag\":0},{\"Real\":0.70710677,\"Imag\":0}]}]"
     ]
    }
   ],
   "source": [
    "%%bash\n",
    "bmqsim -software-simulation -software-simulation-input inputs.json -software-simulation-output output.json program.bmq\n",
    "cat output.json"
   ]
  }
 ],
 "metadata": {
  "kernelspec": {
   "display_name": "Python 3",
   "language": "python",
   "name": "python3"
  },
  "language_info": {
   "codemirror_mode": {
    "name": "ipython",
    "version": 3
   },
   "file_extension": ".py",
   "mimetype": "text/x-python",
   "name": "python",
   "nbconvert_exporter": "python",
   "pygments_lexer": "ipython3",
   "version": "3.10.12"
  }
 },
 "nbformat": 4,
 "nbformat_minor": 2
}
