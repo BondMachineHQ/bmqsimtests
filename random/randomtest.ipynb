{
 "cells": [
  {
   "cell_type": "code",
   "execution_count": null,
   "metadata": {},
   "outputs": [],
   "source": [
    "%run config.py"
   ]
  },
  {
   "cell_type": "code",
   "execution_count": null,
   "metadata": {},
   "outputs": [],
   "source": [
    "import random\n",
    "def randomgate(qbits):\n",
    "\top=random.choice(['x','y','z','h','cx','cz'])\n",
    "\tif op=='cx' or op=='cz':\n",
    "\t\tq1=random.choice(range(qbits))\n",
    "\t\tq2=random.choice(range(qbits))\n",
    "\t\twhile q1==q2:\n",
    "\t\t\tq2=random.choice(range(qbits))\n",
    "\t\treturn 'qc.'+op+'('+str(q1)+','+str(q2)+')', op+' q'+str(q1)+',q'+str(q2)\n",
    "\telif op=='x' or op=='y' or op=='z' or op=='h':\n",
    "\t\tq1=random.choice(range(qbits))\n",
    "\t\treturn 'qc.'+op+'('+str(q1)+')', op+' q'+str(q1)\n",
    "\t "
   ]
  },
  {
   "cell_type": "code",
   "execution_count": null,
   "metadata": {},
   "outputs": [],
   "source": [
    "def randomcircuit(qbits, gates):\n",
    "\tqiscirc=\"\"\n",
    "\tbmcirc=\"\"\n",
    "\tfor i in range(gates):\n",
    "\t\tqiscirct, bmcirct = randomgate(qbits)\n",
    "\t\tqiscirc+=qiscirct+'\\n'\n",
    "\t\tbmcirc+='\\t'+bmcirct+'\\n'\n",
    "\treturn qiscirc, bmcirc"
   ]
  },
  {
   "cell_type": "code",
   "execution_count": null,
   "metadata": {},
   "outputs": [],
   "source": [
    "def randomsim(qbits,gates):\n",
    "\tqiscirc, bmcirc = randomcircuit(qbits, gates)\n",
    "\t\n",
    "\twith open('qiskit/circuit.py.tmpl','r') as f:\n",
    "\t\tqiskitscript=f.read()\n",
    "\n",
    "\twith open('bmqsim/program.bmq.tmpl','r') as f:\n",
    "\t\tbmprogram=f.read()\n",
    "\n",
    "\tqiskitscript=qiskitscript.replace('%%CIRCUIT%%',qiscirc)\n",
    "\tbmprogram=bmprogram.replace('%%CIRCUIT%%',bmcirc)\n",
    "\n",
    "\twith open('qiskit/circuit.py','w') as f:\n",
    "\t\tf.write(qiskitscript)\n",
    "\n",
    "\twith open('bmqsim/program.bmq','w') as f:\n",
    "\t\tf.write(bmprogram)\n",
    "\n",
    "\t%run analyze.ipynb"
   ]
  },
  {
   "cell_type": "code",
   "execution_count": null,
   "metadata": {},
   "outputs": [],
   "source": [
    "randomsim(qbits,10)\n",
    "if passed:\n",
    "\tprint('Test passed')\n",
    "else:\n",
    "\tprint('Test failed')"
   ]
  }
 ],
 "metadata": {
  "kernelspec": {
   "display_name": "Python 3",
   "language": "python",
   "name": "python3"
  },
  "language_info": {
   "codemirror_mode": {
    "name": "ipython",
    "version": 3
   },
   "file_extension": ".py",
   "mimetype": "text/x-python",
   "name": "python",
   "nbconvert_exporter": "python",
   "pygments_lexer": "ipython3",
   "version": "3.12.3"
  }
 },
 "nbformat": 4,
 "nbformat_minor": 2
}
