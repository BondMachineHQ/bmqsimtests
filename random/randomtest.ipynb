{
 "cells": [
  {
   "cell_type": "code",
   "execution_count": 470,
   "metadata": {},
   "outputs": [],
   "source": [
    "%run config.py"
   ]
  },
  {
   "cell_type": "code",
   "execution_count": 471,
   "metadata": {},
   "outputs": [],
   "source": [
    "import random\n",
    "def rev(qbits,qbit):\n",
    "\treturn qbits-qbit-1\n",
    "\n",
    "def randomgate(qbits):\n",
    "\top=random.choice(['x','y','z','h','cx','cz','rx','ry','rz'])\n",
    "\tif op=='cx' or op=='cz':\n",
    "\t\tq1=random.choice(range(qbits))\n",
    "\t\tq2=random.choice(range(qbits))\n",
    "\t\twhile q1==q2:\n",
    "\t\t\tq2=random.choice(range(qbits))\n",
    "\t\tif op=='cx':\n",
    "\t\t\tquestOp='controlledNot'\n",
    "\t\tif op=='cz':\n",
    "\t\t\tquestOp='controlledPhaseFlip'\n",
    "\t\treturn 'qc.'+op+'('+str(q1)+','+str(q2)+')', op+' q'+str(q1)+',q'+str(q2), questOp+'(qubits, '+str(rev(qbits,q1))+', '+str(rev(qbits,q2))+');'\n",
    "\telif op=='x' or op=='y' or op=='z' or op=='h':\n",
    "\t\tq1=random.choice(range(qbits))\n",
    "\t\tif op=='h':\n",
    "\t\t\tquestOp='hadamard'\n",
    "\t\tif op=='x':\n",
    "\t\t\tquestOp='pauliX'\n",
    "\t\tif op=='y':\n",
    "\t\t\tquestOp='pauliY'\n",
    "\t\tif op=='z':\n",
    "\t\t\tquestOp='pauliZ'\n",
    "\n",
    "\t\treturn 'qc.'+op+'('+str(q1)+')', op+' q'+str(q1), questOp+'(qubits, '+str(rev(qbits,q1))+');'\n",
    "\telif op=='rx' or op=='ry' or op=='rz':\n",
    "\t\tq1=random.choice(range(qbits))\n",
    "\t\tangle=random.random()*2*3.14159265359\n",
    "\t\tif op=='rx':\n",
    "\t\t\tquestOp='rotateX'\n",
    "\t\tif op=='ry':\n",
    "\t\t\tquestOp='rotateY'\n",
    "\t\tif op=='rz':\n",
    "\t\t\tquestOp='rotateZ'\n",
    "\t\treturn 'qc.'+op+'('+str(angle)+','+str(q1)+')', op+' q'+str(q1)+', '+str(angle), questOp+'(qubits, '+str(rev(qbits,q1))+', '+str(angle)+');'\n",
    "\t "
   ]
  },
  {
   "cell_type": "code",
   "execution_count": 472,
   "metadata": {},
   "outputs": [],
   "source": [
    "def randomcircuit(qbits, gates):\n",
    "\tqiscirc=\"\"\n",
    "\tbmcirc=\"\"\n",
    "\tqcirc=\"\"\n",
    "\tfor i in range(gates):\n",
    "\t\tqiscirct, bmcirct, qcirct = randomgate(qbits)\n",
    "\t\tqiscirc+=qiscirct+'\\n'\n",
    "\t\tbmcirc+='\\t'+bmcirct+'\\n'\n",
    "\t\tqcirc+=qcirct+'\\n'\n",
    "\treturn qiscirc, bmcirc, qcirc"
   ]
  },
  {
   "cell_type": "code",
   "execution_count": 473,
   "metadata": {},
   "outputs": [],
   "source": [
    "def randomsim(qbits,gates):\n",
    "\tqbitslist=\"\"\n",
    "\tfor i in range(qbits):\n",
    "\t\tif i==0:\n",
    "\t\t\tqbitslist+=\"q\"+str(i)\n",
    "\t\telse:\n",
    "\t\t\tqbitslist+=\",q\"+str(i)\n",
    "\tqiscirc, bmcirc, qcirc = randomcircuit(qbits, gates)\n",
    "\twith open('qiskit/circuit.py.tmpl','r') as f:\n",
    "\t\tqiskitscript=f.read()\n",
    "\n",
    "\twith open('bmqsim/program.bmq.tmpl','r') as f:\n",
    "\t\tbmprogram=f.read()\n",
    "\n",
    "\twith open('quest/circuit.c.tmpl','r') as f:\n",
    "\t\tqprogram=f.read()\n",
    "\n",
    "\tqiskitscript=qiskitscript.replace('%%CIRCUIT%%',qiscirc).replace('%%QBITS%%',str(qbits)).replace('%%QBITSLIST%%',qbitslist)\n",
    "\tbmprogram=bmprogram.replace('%%CIRCUIT%%',bmcirc).replace('%%QBITS%%',str(qbits)).replace('%%QBITSLIST%%',qbitslist)\n",
    "\tqprogram=qprogram.replace('%%CIRCUIT%%',qcirc).replace('%%QBITS%%',str(qbits)).replace('%%QBITSLIST%%',qbitslist)\n",
    "\n",
    "\twith open('qiskit/circuit.py','w') as f:\n",
    "\t\tf.write(qiskitscript)\n",
    "\n",
    "\twith open('bmqsim/program.bmq','w') as f:\n",
    "\t\tf.write(bmprogram)\n",
    "\n",
    "\twith open('quest/circuit.c','w') as f:\n",
    "\t\tf.write(qprogram)\n",
    "\n",
    "\t%run analyze.ipynb"
   ]
  },
  {
   "cell_type": "code",
   "execution_count": 474,
   "metadata": {},
   "outputs": [
    {
     "name": "stdout",
     "output_type": "stream",
     "text": [
      "     ┌──────────────┐┌───┐   ┌───┐          ┌───┐     ┌────────────┐┌───┐»\n",
      "q_0: ┤ Ry(0.090333) ├┤ X ├─■─┤ X ├──■───────┤ Z ├─────┤ Rz(4.6623) ├┤ H ├»\n",
      "     └──────────────┘└─┬─┘ │ ├───┤  │   ┌───┴───┴────┐└───┬───┬────┘├───┤»\n",
      "q_1: ──────────────────■───■─┤ X ├──┼───┤ Ry(1.7007) ├────┤ X ├─────┤ Y ├»\n",
      "      ┌────────────┐ ┌───┐   └───┘┌─┴─┐┌┴────────────┤┌───┴───┴────┐├───┤»\n",
      "q_2: ─┤ Ry(6.0589) ├─┤ Z ├────────┤ X ├┤ Rx(0.56841) ├┤ Rz(3.2426) ├┤ Y ├»\n",
      "      └────────────┘ └───┘        └───┘└─────────────┘└────────────┘└───┘»\n",
      "«         ┌───┐                        ┌────────────┐          ┌───┐┌───┐┌───┐»\n",
      "«q_0: ────┤ H ├─────────────────────■──┤ Rz(1.1452) ├───────■──┤ X ├┤ Z ├┤ Z ├»\n",
      "«         ├───┤     ┌────────────┐  │  └────────────┘       │  └─┬─┘└───┘└───┘»\n",
      "«q_1: ────┤ X ├─────┤ Rx(2.2576) ├──┼───────────────────────┼────┼────────────»\n",
      "«     ┌───┴───┴────┐└────────────┘┌─┴─┐┌────────────┐┌───┐┌─┴─┐  │            »\n",
      "«q_2: ┤ Rx(3.3066) ├──────────────┤ X ├┤ Rz(3.3107) ├┤ H ├┤ X ├──■────────────»\n",
      "«     └────────────┘              └───┘└────────────┘└───┘└───┘               »\n",
      "«     ┌───────────┐┌────────────┐┌────────────┐┌────────────┐┌───┐»\n",
      "«q_0: ┤ Ry(0.631) ├┤ Rx(4.5636) ├┤ Rz(3.3566) ├┤ Ry(3.5204) ├┤ X ├»\n",
      "«     └───────────┘└────────────┘└────────────┘└────────────┘└─┬─┘»\n",
      "«q_1: ─────────────────────────────────────────────────────────■──»\n",
      "«                                                                 »\n",
      "«q_2: ────────────────────────────────────────────────────────────»\n",
      "«                                                                 »\n",
      "«         ┌───┐            ┌───┐     ┌───┐                              »\n",
      "«q_0: ────┤ Z ├──────■─────┤ X ├─────┤ Y ├──■─────────────────■───────■─»\n",
      "«     ┌───┴───┴────┐ │ ┌───┴───┴────┐└───┘┌─┴─┐┌────────────┐ │ ┌───┐ │ »\n",
      "«q_1: ┤ Ry(4.8775) ├─■─┤ Ry(4.8592) ├─────┤ X ├┤ Ry(4.5403) ├─■─┤ X ├─┼─»\n",
      "«     └────────────┘   └────────────┘     └───┘└────────────┘   └─┬─┘ │ »\n",
      "«q_2: ────────────────────────────────────────────────────────────■───■─»\n",
      "«                                                                       »\n",
      "«     ┌────────────┐┌───┐┌───────────┐\n",
      "«q_0: ┤ Rx(5.3589) ├┤ Y ├┤ Ry(6.193) ├\n",
      "«     ├────────────┤└───┘└───────────┘\n",
      "«q_1: ┤ Ry(2.1731) ├──────────────────\n",
      "«     ├────────────┤                  \n",
      "«q_2: ┤ Ry(1.2254) ├──────────────────\n",
      "«     └────────────┘                  \n",
      "Test passed\n"
     ]
    }
   ],
   "source": [
    "randomsim(qbits,50)\n",
    "if passed:\n",
    "\tprint('Test passed')\n",
    "else:\n",
    "\tprint('Test failed')"
   ]
  }
 ],
 "metadata": {
  "kernelspec": {
   "display_name": "Python 3",
   "language": "python",
   "name": "python3"
  },
  "language_info": {
   "codemirror_mode": {
    "name": "ipython",
    "version": 3
   },
   "file_extension": ".py",
   "mimetype": "text/x-python",
   "name": "python",
   "nbconvert_exporter": "python",
   "pygments_lexer": "ipython3",
   "version": "3.12.3"
  }
 },
 "nbformat": 4,
 "nbformat_minor": 2
}
