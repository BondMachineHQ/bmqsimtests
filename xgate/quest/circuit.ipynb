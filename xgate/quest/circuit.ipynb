{
 "cells": [
  {
   "cell_type": "code",
   "execution_count": 3,
   "metadata": {},
   "outputs": [],
   "source": [
    "%%bash\n",
    "TMPDIR=`mktemp -d`\n",
    "cp -a /home/mirko/Temp/QuEST $TMPDIR\n",
    "cp circuit.c $TMPDIR/QuEST/\n",
    "mkdir $TMPDIR/QuEST/build\n",
    "cp -a inputs.txt $TMPDIR/QuEST/build\n",
    "cd $TMPDIR/QuEST/build > /dev/null\n",
    "cmake .. -DUSER_SOURCE=circuit.c > /dev/null\n",
    "make > /dev/null\n",
    "./demo > outputs.txt\n",
    "cd - > /dev/null\n",
    "mv $TMPDIR/QuEST/build/outputs.txt .\n",
    "rm -rf $TMPDIR"
   ]
  }
 ],
 "metadata": {
  "kernelspec": {
   "display_name": "Python 3",
   "language": "python",
   "name": "python3"
  },
  "language_info": {
   "codemirror_mode": {
    "name": "ipython",
    "version": 3
   },
   "file_extension": ".py",
   "mimetype": "text/x-python",
   "name": "python",
   "nbconvert_exporter": "python",
   "pygments_lexer": "ipython3",
   "version": "3.12.3"
  }
 },
 "nbformat": 4,
 "nbformat_minor": 2
}
