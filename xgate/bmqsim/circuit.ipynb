{
 "cells": [
  {
   "cell_type": "code",
   "execution_count": 19,
   "metadata": {},
   "outputs": [
    {
     "name": "stdout",
     "output_type": "stream",
     "text": [
      "[{\"Vector\": [{\"Real\": 0.313431342762195, \"Imag\": -0.21891560154258793}, {\"Real\": 0.07210894930622776, \"Imag\": 0.6156420213037747}, {\"Real\": -0.24856011355689747, \"Imag\": 0.0020432167604469715}, {\"Real\": 0.3731644578493322, \"Imag\": -0.5182508431467864}]}, {\"Vector\": [{\"Real\": 0.6448977030109404, \"Imag\": 0.3042354986721232}, {\"Real\": -0.5569955990024071, \"Imag\": 0.1471385419701625}, {\"Real\": -0.10741074373408857, \"Imag\": 0.08086376135152219}, {\"Real\": -0.33650408345534777, \"Imag\": -0.1683533551974309}]}, {\"Vector\": [{\"Real\": -0.06566439502807622, \"Imag\": -0.2492609828930471}, {\"Real\": -0.5963705279179365, \"Imag\": 0.15506161966433882}, {\"Real\": 0.2829097208568686, \"Imag\": 0.6559603959026653}, {\"Real\": -0.19690822473442984, \"Imag\": 0.06899592056480425}]}, {\"Vector\": [{\"Real\": 0.3842796845329396, \"Imag\": -0.20105248985833377}, {\"Real\": 0.3867491709988152, \"Imag\": 0.1241366202293678}, {\"Real\": -0.4095294467373631, \"Imag\": -0.3358223472674869}, {\"Real\": 0.26339906574052313, \"Imag\": -0.5450248747759612}]}]"
     ]
    }
   ],
   "source": [
    "%%bash\n",
    "cat inputs.json"
   ]
  },
  {
   "cell_type": "code",
   "execution_count": 20,
   "metadata": {},
   "outputs": [
    {
     "name": "stdout",
     "output_type": "stream",
     "text": [
      "%block code1 .sequential\n",
      "        qbits   q0,q1\n",
      "        zero    q0,q1\n",
      "\tx\tq0\n",
      "%endblock\n",
      "\n",
      "%meta bmdef global main:code1\n"
     ]
    }
   ],
   "source": [
    "%%bash\n",
    "cat program.bmq"
   ]
  },
  {
   "cell_type": "code",
   "execution_count": 21,
   "metadata": {},
   "outputs": [
    {
     "name": "stdout",
     "output_type": "stream",
     "text": [
      "[{\"Vector\":[{\"Real\":-0.24856012,\"Imag\":0.0020432167},{\"Real\":0.37316445,\"Imag\":-0.5182508},{\"Real\":0.31343135,\"Imag\":-0.2189156},{\"Real\":0.07210895,\"Imag\":0.615642}]},{\"Vector\":[{\"Real\":-0.107410744,\"Imag\":0.08086376},{\"Real\":-0.33650407,\"Imag\":-0.16835335},{\"Real\":0.6448977,\"Imag\":0.3042355},{\"Real\":-0.5569956,\"Imag\":0.14713854}]},{\"Vector\":[{\"Real\":0.28290972,\"Imag\":0.6559604},{\"Real\":-0.19690822,\"Imag\":0.06899592},{\"Real\":-0.065664396,\"Imag\":-0.24926098},{\"Real\":-0.5963705,\"Imag\":0.15506162}]},{\"Vector\":[{\"Real\":-0.40952945,\"Imag\":-0.33582234},{\"Real\":0.26339906,\"Imag\":-0.5450249},{\"Real\":0.3842797,\"Imag\":-0.20105249},{\"Real\":0.38674918,\"Imag\":0.12413662}]}]"
     ]
    }
   ],
   "source": [
    "%%bash\n",
    "bmqsim -software-simulation -software-simulation-input inputs.json -software-simulation-output outputs.json program.bmq\n",
    "cat outputs.json"
   ]
  }
 ],
 "metadata": {
  "kernelspec": {
   "display_name": "Python 3",
   "language": "python",
   "name": "python3"
  },
  "language_info": {
   "codemirror_mode": {
    "name": "ipython",
    "version": 3
   },
   "file_extension": ".py",
   "mimetype": "text/x-python",
   "name": "python",
   "nbconvert_exporter": "python",
   "pygments_lexer": "ipython3",
   "version": "3.10.12"
  }
 },
 "nbformat": 4,
 "nbformat_minor": 2
}
