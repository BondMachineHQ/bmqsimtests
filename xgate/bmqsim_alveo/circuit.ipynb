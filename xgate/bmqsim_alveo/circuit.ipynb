{
 "cells": [
  {
   "cell_type": "code",
   "execution_count": 1,
   "metadata": {},
   "outputs": [],
   "source": [
    "%%bash\n",
    "scp -i /home/mirko/.ssh/structural inputs.txt vitis2:/home/mirko/alveoruns/proj_alveou55c_xgate/inputs.txt"
   ]
  },
  {
   "cell_type": "code",
   "execution_count": 2,
   "metadata": {},
   "outputs": [],
   "source": [
    "%%bash\n",
    "ssh -i /home/mirko/.ssh/structural vitis2 \"source /opt/xilinx/xrt/setup.sh ; cd /home/mirko/alveoruns/proj_alveou55c_xgate/ ; ./circuit inputs.txt outputs.txt\""
   ]
  },
  {
   "cell_type": "code",
   "execution_count": 3,
   "metadata": {},
   "outputs": [],
   "source": [
    "%%bash\n",
    "scp -i /home/mirko/.ssh/structural vitis2:/home/mirko/alveoruns/proj_alveou55c_xgate/outputs.txt outputs.txt"
   ]
  }
 ],
 "metadata": {
  "kernelspec": {
   "display_name": "Python 3",
   "language": "python",
   "name": "python3"
  },
  "language_info": {
   "codemirror_mode": {
    "name": "ipython",
    "version": 3
   },
   "file_extension": ".py",
   "mimetype": "text/x-python",
   "name": "python",
   "nbconvert_exporter": "python",
   "pygments_lexer": "ipython3",
   "version": "3.10.12"
  }
 },
 "nbformat": 4,
 "nbformat_minor": 2
}
