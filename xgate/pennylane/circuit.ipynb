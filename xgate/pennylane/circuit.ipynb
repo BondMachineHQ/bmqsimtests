{
  "cells": [
    {
      "cell_type": "code",
      "execution_count": 9,
      "metadata": {
        "collapsed": false
      },
      "outputs": [],
      "source": [
        "# This cell is added by sphinx-gallery\n",
        "# It can be customized to whatever you like\n",
        "%matplotlib inline"
      ]
    },
    {
      "cell_type": "code",
      "execution_count": 10,
      "metadata": {
        "collapsed": false
      },
      "outputs": [],
      "source": [
        "import pennylane as qml\n",
        "import numpy as np\n",
        "import json"
      ]
    },
    {
      "cell_type": "code",
      "execution_count": 11,
      "metadata": {
        "collapsed": false
      },
      "outputs": [
        {
          "name": "stdout",
          "output_type": "stream",
          "text": [
            "[[[-0.3507823534382883, 0.03194842952678212], [0.09157007193407589, -0.0038177334529074093], [0.38995101573244034, -0.7810454706982112], [0.030550147635582513, 0.32327117365275637]], [[0.3709598667431221, 0.1945617435232801], [0.37358463833982153, 0.07392331113221468], [0.02804888224349016, -0.5928790442318809], [-0.5677605285926316, 0.06971404864630065]], [[0.12599742918236273, 0.31078968283540515], [-0.18614390112497203, 0.5463007217904691], [0.3508345535241537, -0.5149627924652928], [-0.0043959611424461914, 0.4076144063734529]], [[-0.1452961373318916, 0.032934052051592354], [-0.45353801409888234, -0.5960286430043656], [-0.5490493087039598, -0.06623896238314748], [-0.330498058847923, -0.04225868844834549]], [[-0.08568163465503784, 0.20475847434445504], [-0.7038927275812005, 0.29322304535069893], [-0.4802967278845341, 0.24242317866898605], [0.28043912067314164, 0.034465252415168825]], [[-0.24059641923136074, 0.18660999153027588], [0.28405212644806255, -0.5492210290827951], [0.006739025356241676, 0.09895795681493062], [0.4967880985134588, -0.5180002106981529]], [[-0.09007544703242018, -0.767121806795022], [-0.1630305053273199, 0.39116822681567737], [0.3862312852834409, 0.05152335028724528], [-0.21779327520387531, 0.15670305665013878]], [[-0.5008525967131526, -0.0055721618997469835], [-0.27540875441500534, 0.18340601694491182], [0.5219235892835143, 0.49389328475626976], [0.2289265251019137, -0.26624371287275816]], [[-0.18474155388328733, 0.26308847930908147], [-0.37802489405616413, -0.2734780171606535], [0.3718511418524536, -0.5627907956133227], [0.24394450402548581, 0.4055197794917482]], [[0.31720227248567334, -0.541896273429612], [-0.5162385475020967, 0.24438492100297302], [-0.20752289239210664, 0.14436077951450882], [0.44813462146727623, 0.1215503811013294]]]\n"
          ]
        }
      ],
      "source": [
        "qbitslist = [\"q0\", \"q1\"]\n",
        "num_qubits = len(qbitslist)\n",
        "\n",
        "dev = qml.device(\"default.qubit\", wires=qbitslist)\n",
        "\n",
        "\n",
        "@qml.qnode(dev)\n",
        "def circuit(state):\n",
        "    qml.QubitStateVector(state, wires=qbitslist)\n",
        "    qml.PauliX(wires=\"q0\")\n",
        "    return qml.state()\n",
        "\n",
        "\n",
        "with open('inputs.json') as json_file:\n",
        "    \tinputs = json.load(json_file)\n",
        "\n",
        "outputs = []\n",
        "\n",
        "for input in inputs:\n",
        "    complexArray = []\n",
        "    for num in input:\n",
        "        complexArray.append(num[0] + num[1] * 1j)\n",
        "\n",
        "    normalized_state = np.array(complexArray)\n",
        "    \n",
        "    outputstate = circuit(normalized_state)\n",
        "    output = []\n",
        "\n",
        "    for i in range(len(outputstate)):\n",
        "        output.append([outputstate[i].real.tolist(), outputstate[i].imag.tolist()])\n",
        "\n",
        "    outputs.append(output)\n",
        "\n",
        "# Write the output to the outputs file as json\n",
        "with open('outputs.json', 'w') as outfile:\n",
        "    json.dump(outputs, outfile)\n",
        "\n",
        "print(outputs)\n"
      ]
    }
  ],
  "metadata": {
    "kernelspec": {
      "display_name": "Python 3",
      "language": "python",
      "name": "python3"
    },
    "language_info": {
      "codemirror_mode": {
        "name": "ipython",
        "version": 3
      },
      "file_extension": ".py",
      "mimetype": "text/x-python",
      "name": "python",
      "nbconvert_exporter": "python",
      "pygments_lexer": "ipython3",
      "version": "3.12.3"
    }
  },
  "nbformat": 4,
  "nbformat_minor": 0
}
