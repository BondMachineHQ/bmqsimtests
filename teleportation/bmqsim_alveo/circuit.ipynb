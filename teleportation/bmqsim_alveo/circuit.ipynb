{
 "cells": [
  {
   "cell_type": "code",
   "execution_count": 2,
   "metadata": {},
   "outputs": [],
   "source": [
    "%run config.py"
   ]
  },
  {
   "cell_type": "code",
   "execution_count": 1,
   "metadata": {},
   "outputs": [],
   "source": [
    "%%bash -s \"$ssh_key\" \"$ssh_host\" \"$ssh_user\" \"$work_dir\"\n",
    "scp -i $1 inputs.txt $3@$2:$4/inputs.txt"
   ]
  },
  {
   "cell_type": "code",
   "execution_count": 2,
   "metadata": {},
   "outputs": [],
   "source": [
    "%%bash -s \"$ssh_key\" \"$ssh_host\" \"$ssh_user\" \"$work_dir\"\n",
    "ssh -i $1 $3@$2 \"source /opt/xilinx/xrt/setup.sh ; cd $4 ; ./circuit inputs.txt outputs.txt\""
   ]
  },
  {
   "cell_type": "code",
   "execution_count": 3,
   "metadata": {},
   "outputs": [],
   "source": [
    "%%bash -s \"$ssh_key\" \"$ssh_host\" \"$ssh_user\" \"$work_dir\"\n",
    "scp -i $1 $3@$2:$4/outputs.txt outputs.txt"
   ]
  }
 ],
 "metadata": {
  "kernelspec": {
   "display_name": "Python 3",
   "language": "python",
   "name": "python3"
  },
  "language_info": {
   "codemirror_mode": {
    "name": "ipython",
    "version": 3
   },
   "file_extension": ".py",
   "mimetype": "text/x-python",
   "name": "python",
   "nbconvert_exporter": "python",
   "pygments_lexer": "ipython3",
   "version": "3.12.3"
  }
 },
 "nbformat": 4,
 "nbformat_minor": 2
}
